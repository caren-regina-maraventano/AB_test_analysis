{
  "nbformat": 4,
  "nbformat_minor": 0,
  "metadata": {
    "colab": {
      "provenance": []
    },
    "kernelspec": {
      "name": "python3",
      "display_name": "Python 3"
    },
    "language_info": {
      "name": "python"
    }
  },
  "cells": [
    {
      "cell_type": "markdown",
      "source": [
        "# A/B Test Analysis for GloBox\n",
        "by Caren Regina Maraventano"
      ],
      "metadata": {
        "id": "McL37PfC0BgW"
      }
    },
    {
      "cell_type": "markdown",
      "source": [
        "### **Table of Contents**\n",
        "1. Introduction\n",
        "2. Hypothesis\n",
        "3. Exploratory Analysis\n",
        "4. Sanity Checks: Internal Validity \\\n",
        "    4.1. Sample Ratio Mismatch \\\n",
        "    4.2. Distribution Balance\n",
        "5. Metrics Analysis \\\n",
        "    5.1. Conversion Rate \\\n",
        "    5.2. Average Sales per User \\\n",
        "    5.3. Average Order Value \n",
        "6. Conclusions and Next Steps"
      ],
      "metadata": {
        "id": "JYTBDF1F4JMP"
      }
    },
    {
      "cell_type": "markdown",
      "source": [
        "## 1. Introduction"
      ],
      "metadata": {
        "id": "iAP4k4mvYgYF"
      }
    },
    {
      "cell_type": "markdown",
      "source": [
        "**GloBox** is an online marketplace that specializes in sourcing unique and high-quality products from around the world. **GloBox** is primarily known amongst its customer base for boutique fashion items and high-end decor products. However, their food and drink offerings have grown tremendously in the last few months, and the company wants to bring awareness to this product category to increase revenue.\n",
        "The Growth team decides to run an A/B test that highlights key products in the food and drink category as a banner at the top of the website.\n",
        "The setup of the A/B test is as follows:\n",
        "* the experiment is only being run on the mobile website,\n",
        "*  a user visits the **GloBox** main page and is randomly assigned to either the control or test group (this is the join date for the user),\n",
        "* the page loads the banner if the user is assigned to the test group, and does not load the banner if the user is assigned to the control group,\n",
        "* the user subsequently may or may not purchase products from the website. It could be on the same day they join the experiment, or days later. If they do make one or more purchases, this is considered a “conversion”."
      ],
      "metadata": {
        "id": "fm7O0WMnwP8L"
      }
    },
    {
      "cell_type": "markdown",
      "source": [
        "## 2. Hypothesis"
      ],
      "metadata": {
        "id": "8VC1UaGgYr1d"
      }
    },
    {
      "cell_type": "markdown",
      "source": [
        "**H0** = If we place a banner highlighting products of the food and drink category, the percentage of purchasing customers, the  mean revenue per customer and the mean revenue per order will ***not change***, as measured by the Conversion Rate, the Average Sales per User and the Average Order Value respectively.\n",
        "\n",
        "**H1** = If we place a banner highlighting products of the food and drink category, the percentage of purchasing customers, the  mean revenue per customer and the mean revenue per order will ***change***, as measured by the Conversion Rate, the Average Sales per User and the Average Order Value respectively."
      ],
      "metadata": {
        "id": "GSpohoyrR-ek"
      }
    },
    {
      "cell_type": "markdown",
      "source": [
        "## 3. Exploratory Analysis"
      ],
      "metadata": {
        "id": "q1hEfysHYx1N"
      }
    },
    {
      "cell_type": "code",
      "source": [
        "# install and load the necessary libraries\n",
        "!pip install pingouin &> /dev/null\n",
        "import pingouin\n",
        "import pandas as pd\n",
        "import numpy as np\n",
        "import matplotlib.pyplot as plt\n",
        "import seaborn as sns\n",
        "from scipy.stats import chisquare\n",
        "from scipy.stats import ttest_ind\n",
        "from scipy.stats import t\n",
        "from scipy import stats\n",
        "from statsmodels.stats.proportion import proportions_ztest, proportion_confint"
      ],
      "metadata": {
        "id": "-SkWWAoJ9YAn"
      },
      "execution_count": 1,
      "outputs": []
    },
    {
      "cell_type": "code",
      "execution_count": 2,
      "metadata": {
        "colab": {
          "base_uri": "https://localhost:8080/"
        },
        "id": "K2sO8YHK9KCb",
        "outputId": "75d8a2b7-1b20-40ee-86df-8a5240000c99"
      },
      "outputs": [
        {
          "output_type": "stream",
          "name": "stdout",
          "text": [
            "<class 'pandas.core.frame.DataFrame'>\n",
            "RangeIndex: 49082 entries, 0 to 49081\n",
            "Data columns (total 8 columns):\n",
            " #   Column   Non-Null Count  Dtype         \n",
            "---  ------   --------------  -----         \n",
            " 0   id       49082 non-null  int64         \n",
            " 1   country  48435 non-null  object        \n",
            " 2   gender   42200 non-null  object        \n",
            " 3   group    49082 non-null  object        \n",
            " 4   join_dt  49082 non-null  datetime64[ns]\n",
            " 5   device   48787 non-null  object        \n",
            " 6   dt       2233 non-null   datetime64[ns]\n",
            " 7   spent    2233 non-null   float64       \n",
            "dtypes: datetime64[ns](2), float64(1), int64(1), object(4)\n",
            "memory usage: 3.0+ MB\n",
            "None\n",
            "            id country gender group    join_dt device  dt  spent\n",
            "27140  1027627     CAN      F     A 2023-01-31      I NaT    NaN\n",
            "22860  1023280     MEX      O     B 2023-01-31      I NaT    NaN\n",
            "46368  1047251     ESP      M     A 2023-01-28      I NaT    NaN\n",
            "12469  1012709     BRA      M     A 2023-01-25      A NaT    NaN\n",
            "20043  1020418     USA    NaN     A 2023-02-06      A NaT    NaN\n"
          ]
        }
      ],
      "source": [
        "# import the dataset and quick inspection\n",
        "df = pd.read_csv('/content/dataset.csv', parse_dates=['join_dt', 'dt'])\n",
        "print(df.info())\n",
        "print(df.sample(n=5))"
      ]
    },
    {
      "cell_type": "code",
      "source": [
        "# check for duplicates rows due to logging issues\n",
        "print(len(df))\n",
        "print(len(df.drop_duplicates(keep='first')))"
      ],
      "metadata": {
        "colab": {
          "base_uri": "https://localhost:8080/"
        },
        "id": "RF4bGodul028",
        "outputId": "13edb05c-b19a-4e46-81e9-1437342c7672"
      },
      "execution_count": 3,
      "outputs": [
        {
          "output_type": "stream",
          "name": "stdout",
          "text": [
            "49082\n",
            "49082\n"
          ]
        }
      ]
    },
    {
      "cell_type": "code",
      "source": [
        "# create a new column in where I rename group \"A\" to \"control\" and group \"B\" to \"test\"\n",
        "df['group_name'] = df['group'].replace({'A': 'control', 'B': 'test'})"
      ],
      "metadata": {
        "id": "tEWIFMEO00aD"
      },
      "execution_count": 4,
      "outputs": []
    },
    {
      "cell_type": "code",
      "source": [
        "# create a 'conversion' column: \n",
        "# 1 when the customer made a purchase (only for one of their purchases)\n",
        "# 0 when the customer did not make a purchase\n",
        "df['conversion'] = (df['spent'].notnull() & df.groupby('id')['spent'].shift().isnull()).astype(int)\n",
        "print(df.loc[df['id'] == 1020103])\n",
        "print(df.sample(n=10))"
      ],
      "metadata": {
        "colab": {
          "base_uri": "https://localhost:8080/"
        },
        "id": "HB7Gr5iYuwWw",
        "outputId": "ea7fcfb8-08b0-404a-829e-ae51b4e1998c"
      },
      "execution_count": 5,
      "outputs": [
        {
          "output_type": "stream",
          "name": "stdout",
          "text": [
            "            id country gender group    join_dt device         dt       spent  \\\n",
            "19733  1020103     USA      M     B 2023-01-29      A 2023-02-01  164.620000   \n",
            "19734  1020103     USA      M     B 2023-01-29      A 2023-01-30   25.680806   \n",
            "\n",
            "      group_name  conversion  \n",
            "19733       test           1  \n",
            "19734       test           0  \n",
            "            id country gender group    join_dt device  dt  spent group_name  \\\n",
            "13605  1013860     USA      O     A 2023-01-27      I NaT    NaN    control   \n",
            "31284  1031863     USA    NaN     A 2023-01-28      A NaT    NaN    control   \n",
            "10575  1010782     MEX      M     B 2023-01-31      I NaT    NaN       test   \n",
            "40861  1041635     USA      M     A 2023-01-26      A NaT    NaN    control   \n",
            "20078  1020454     BRA      M     A 2023-01-30      A NaT    NaN    control   \n",
            "27430  1027922     GBR    NaN     A 2023-01-26      A NaT    NaN    control   \n",
            "2107   1002151     GBR      M     B 2023-01-30      A NaT    NaN       test   \n",
            "3593   1003666     USA      O     B 2023-01-25      A NaT    NaN       test   \n",
            "23642  1024072     DEU      O     A 2023-01-25      I NaT    NaN    control   \n",
            "5805   1005923     ESP      M     A 2023-02-05      I NaT    NaN    control   \n",
            "\n",
            "       conversion  \n",
            "13605           0  \n",
            "31284           0  \n",
            "10575           0  \n",
            "40861           0  \n",
            "20078           0  \n",
            "27430           0  \n",
            "2107            0  \n",
            "3593            0  \n",
            "23642           0  \n",
            "5805            0  \n"
          ]
        }
      ]
    },
    {
      "cell_type": "code",
      "source": [
        "# create column 'spent_range'\n",
        "bins = [0, 50, 100, 150, 200, float('inf')]\n",
        "labels = ['0-50', '50-100', '100-150', '150-200', '>200']\n",
        "df['spent_range'] = pd.cut(df['spent'], bins=bins, labels=labels, include_lowest=True)"
      ],
      "metadata": {
        "id": "JGkeb-RriSEs"
      },
      "execution_count": 6,
      "outputs": []
    },
    {
      "cell_type": "code",
      "source": [
        "# revenue per day by group\n",
        "g = sns.relplot(data=df, \n",
        "                x='join_dt', \n",
        "                y='spent', \n",
        "                kind='line', \n",
        "                hue='group_name', \n",
        "                hue_order=['control','test'],\n",
        "                estimator=sum,\n",
        "                errorbar=None,\n",
        "                height=3,\n",
        "                aspect=2,\n",
        "                linewidth=3)\n",
        "g.set_xticklabels(rotation=45)\n",
        "g.fig.suptitle('Revenue per day by group', y=1.03)\n",
        "g.set(xlabel='date', ylabel='revenue (USD)')\n",
        "g.legend.set_title('group')"
      ],
      "metadata": {
        "colab": {
          "base_uri": "https://localhost:8080/",
          "height": 383
        },
        "id": "SQyYAd7VdttT",
        "outputId": "b54c0087-9915-46c6-a50d-b587f5e1c5b0"
      },
      "execution_count": 7,
      "outputs": [
        {
          "output_type": "display_data",
          "data": {
            "text/plain": [
              "<Figure size 698.25x300 with 1 Axes>"
            ],
            "image/png": "[encoded data removed]"
          },
          "metadata": {}
        }
      ]
    },
    {
      "cell_type": "code",
      "source": [
        "# experiment duration\n",
        "time = df.groupby('group')['join_dt'].agg(['min','max']).reset_index()\n",
        "time['duration'] = time['max']-time['min']\n",
        "time"
      ],
      "metadata": {
        "colab": {
          "base_uri": "https://localhost:8080/",
          "height": 112
        },
        "id": "w-14jV__gue2",
        "outputId": "1e2fc233-ce1f-4c9e-d0c3-d68c544a31d4"
      },
      "execution_count": 8,
      "outputs": [
        {
          "output_type": "execute_result",
          "data": {
            "text/plain": [
              "  group        min        max duration\n",
              "0     A 2023-01-25 2023-02-06  12 days\n",
              "1     B 2023-01-25 2023-02-06  12 days"
            ],
            "text/html": [
              "\n",
              "  <div id=\"df-e54231d6-b706-4aa5-b8a3-9ce4c5c4f33c\">\n",
              "    <div class=\"colab-df-container\">\n",
              "      <div>\n",
              "<style scoped>\n",
              "    .dataframe tbody tr th:only-of-type {\n",
              "        vertical-align: middle;\n",
              "    }\n",
              "\n",
              "    .dataframe tbody tr th {\n",
              "        vertical-align: top;\n",
              "    }\n",
              "\n",
              "    .dataframe thead th {\n",
              "        text-align: right;\n",
              "    }\n",
              "</style>\n",
              "<table border=\"1\" class=\"dataframe\">\n",
              "  <thead>\n",
              "    <tr style=\"text-align: right;\">\n",
              "      <th></th>\n",
              "      <th>group</th>\n",
              "      <th>min</th>\n",
              "      <th>max</th>\n",
              "      <th>duration</th>\n",
              "    </tr>\n",
              "  </thead>\n",
              "  <tbody>\n",
              "    <tr>\n",
              "      <th>0</th>\n",
              "      <td>A</td>\n",
              "      <td>2023-01-25</td>\n",
              "      <td>2023-02-06</td>\n",
              "      <td>12 days</td>\n",
              "    </tr>\n",
              "    <tr>\n",
              "      <th>1</th>\n",
              "      <td>B</td>\n",
              "      <td>2023-01-25</td>\n",
              "      <td>2023-02-06</td>\n",
              "      <td>12 days</td>\n",
              "    </tr>\n",
              "  </tbody>\n",
              "</table>\n",
              "</div>\n",
              "      <button class=\"colab-df-convert\" onclick=\"convertToInteractive('df-e54231d6-b706-4aa5-b8a3-9ce4c5c4f33c')\"\n",
              "              title=\"Convert this dataframe to an interactive table.\"\n",
              "              style=\"display:none;\">\n",
              "        \n",
              "  <svg xmlns=\"http://www.w3.org/2000/svg\" height=\"24px\"viewBox=\"0 0 24 24\"\n",
              "       width=\"24px\">\n",
              "    <path d=\"M0 0h24v24H0V0z\" fill=\"none\"/>\n",
              "    <path d=\"M18.56 5.44l.94 2.06.94-2.06 2.06-.94-2.06-.94-.94-2.06-.94 2.06-2.06.94zm-11 1L8.5 8.5l.94-2.06 2.06-.94-2.06-.94L8.5 2.5l-.94 2.06-2.06.94zm10 10l.94 2.06.94-2.06 2.06-.94-2.06-.94-.94-2.06-.94 2.06-2.06.94z\"/><path d=\"M17.41 7.96l-1.37-1.37c-.4-.4-.92-.59-1.43-.59-.52 0-1.04.2-1.43.59L10.3 9.45l-7.72 7.72c-.78.78-.78 2.05 0 2.83L4 21.41c.39.39.9.59 1.41.59.51 0 1.02-.2 1.41-.59l7.78-7.78 2.81-2.81c.8-.78.8-2.07 0-2.86zM5.41 20L4 18.59l7.72-7.72 1.47 1.35L5.41 20z\"/>\n",
              "  </svg>\n",
              "      </button>\n",
              "      \n",
              "  <style>\n",
              "    .colab-df-container {\n",
              "      display:flex;\n",
              "      flex-wrap:wrap;\n",
              "      gap: 12px;\n",
              "    }\n",
              "\n",
              "    .colab-df-convert {\n",
              "      background-color: #E8F0FE;\n",
              "      border: none;\n",
              "      border-radius: 50%;\n",
              "      cursor: pointer;\n",
              "      display: none;\n",
              "      fill: #1967D2;\n",
              "      height: 32px;\n",
              "      padding: 0 0 0 0;\n",
              "      width: 32px;\n",
              "    }\n",
              "\n",
              "    .colab-df-convert:hover {\n",
              "      background-color: #E2EBFA;\n",
              "      box-shadow: 0px 1px 2px rgba(60, 64, 67, 0.3), 0px 1px 3px 1px rgba(60, 64, 67, 0.15);\n",
              "      fill: #174EA6;\n",
              "    }\n",
              "\n",
              "    [theme=dark] .colab-df-convert {\n",
              "      background-color: #3B4455;\n",
              "      fill: #D2E3FC;\n",
              "    }\n",
              "\n",
              "    [theme=dark] .colab-df-convert:hover {\n",
              "      background-color: #434B5C;\n",
              "      box-shadow: 0px 1px 3px 1px rgba(0, 0, 0, 0.15);\n",
              "      filter: drop-shadow(0px 1px 2px rgba(0, 0, 0, 0.3));\n",
              "      fill: #FFFFFF;\n",
              "    }\n",
              "  </style>\n",
              "\n",
              "      <script>\n",
              "        const buttonEl =\n",
              "          document.querySelector('#df-e54231d6-b706-4aa5-b8a3-9ce4c5c4f33c button.colab-df-convert');\n",
              "        buttonEl.style.display =\n",
              "          google.colab.kernel.accessAllowed ? 'block' : 'none';\n",
              "\n",
              "        async function convertToInteractive(key) {\n",
              "          const element = document.querySelector('#df-e54231d6-b706-4aa5-b8a3-9ce4c5c4f33c');\n",
              "          const dataTable =\n",
              "            await google.colab.kernel.invokeFunction('convertToInteractive',\n",
              "                                                     [key], {});\n",
              "          if (!dataTable) return;\n",
              "\n",
              "          const docLinkHtml = 'Like what you see? Visit the ' +\n",
              "            '<a target=\"_blank\" href=https://colab.research.google.com/notebooks/data_table.ipynb>data table notebook</a>'\n",
              "            + ' to learn more about interactive tables.';\n",
              "          element.innerHTML = '';\n",
              "          dataTable['output_type'] = 'display_data';\n",
              "          await google.colab.output.renderOutput(dataTable, element);\n",
              "          const docLink = document.createElement('div');\n",
              "          docLink.innerHTML = docLinkHtml;\n",
              "          element.appendChild(docLink);\n",
              "        }\n",
              "      </script>\n",
              "    </div>\n",
              "  </div>\n",
              "  "
            ]
          },
          "metadata": {},
          "execution_count": 8
        }
      ]
    },
    {
      "cell_type": "markdown",
      "source": [
        "## 4. Sanity Checks: Internal Validity"
      ],
      "metadata": {
        "id": "FUqrk0C7Y8Km"
      }
    },
    {
      "cell_type": "markdown",
      "source": [
        "### 4.1. Sample Ratio Mismatch"
      ],
      "metadata": {
        "id": "r67ojFrsGCY0"
      }
    },
    {
      "cell_type": "code",
      "source": [
        "# calculate the unique number of users for each group\n",
        "total_users = df['id'].nunique()\n",
        "control = df[df['group'] == 'A']['id'].nunique()\n",
        "treatment = df[df['group'] == 'B']['id'].nunique()\n",
        "print('Total unique users:', total_users, \n",
        "      '\\nGroup A unique users:', control, \n",
        "      '\\nGroup B unique users:', treatment)\n",
        "\n",
        "# calculate allocation ratios per variant\n",
        "control_perc = control / total_users\n",
        "treatment_perc = treatment / total_users\n",
        "print(\"Group A: {:.2f}%\".format(100*control_perc))\n",
        "print(\"Group B: {:.2f}%\".format(100*treatment_perc))\n",
        "\n",
        "# run chisquare test on observed and expected lists\n",
        "observed = [ control, treatment]\n",
        "expected = [ total_users/2, total_users/2 ]\n",
        "chi = chisquare(observed, f_exp=expected)\n",
        "if chi[1] < 0.01:\n",
        "  print(\"SRM may be present.\")\n",
        "else:\n",
        "  print(\"SRM likely not present.\")"
      ],
      "metadata": {
        "colab": {
          "base_uri": "https://localhost:8080/"
        },
        "id": "qgo1oxM4BAQo",
        "outputId": "075b0b2b-ed1a-47b9-a2a6-155e1c4cb62e"
      },
      "execution_count": 9,
      "outputs": [
        {
          "output_type": "stream",
          "name": "stdout",
          "text": [
            "Total unique users: 48943 \n",
            "Group A unique users: 24343 \n",
            "Group B unique users: 24600\n",
            "Group A: 49.74%\n",
            "Group B: 50.26%\n",
            "SRM likely not present.\n"
          ]
        }
      ]
    },
    {
      "cell_type": "markdown",
      "source": [
        "### 4.2. Distribution Balance"
      ],
      "metadata": {
        "id": "mTW7SKIEGFWd"
      }
    },
    {
      "cell_type": "code",
      "source": [
        "# check for distribution balance by gender\n",
        "print(df.groupby('group')['gender'].value_counts(normalize=True))"
      ],
      "metadata": {
        "colab": {
          "base_uri": "https://localhost:8080/"
        },
        "id": "iFgRzMXiBY-0",
        "outputId": "60e1a36f-7477-4819-bffd-ed9e6071f6b3"
      },
      "execution_count": 10,
      "outputs": [
        {
          "output_type": "stream",
          "name": "stdout",
          "text": [
            "group  gender\n",
            "A      F         0.481556\n",
            "       M         0.479888\n",
            "       O         0.038557\n",
            "B      M         0.483457\n",
            "       F         0.475822\n",
            "       O         0.040720\n",
            "Name: gender, dtype: float64\n"
          ]
        }
      ]
    },
    {
      "cell_type": "code",
      "source": [
        "# check for distribution balance by device\n",
        "print(df.groupby('group')['device'].value_counts(normalize=True))"
      ],
      "metadata": {
        "colab": {
          "base_uri": "https://localhost:8080/"
        },
        "id": "M5CSI9X3iTLd",
        "outputId": "0bb78674-29fb-44c0-9552-2400968d16c0"
      },
      "execution_count": 11,
      "outputs": [
        {
          "output_type": "stream",
          "name": "stdout",
          "text": [
            "group  device\n",
            "A      A         0.621769\n",
            "       I         0.378231\n",
            "B      A         0.622615\n",
            "       I         0.377385\n",
            "Name: device, dtype: float64\n"
          ]
        }
      ]
    },
    {
      "cell_type": "code",
      "source": [
        "# check for distribution balance by country\n",
        "print(df.groupby('group')['country'].value_counts(normalize=True))"
      ],
      "metadata": {
        "colab": {
          "base_uri": "https://localhost:8080/"
        },
        "id": "uQ0XTTHyiVK-",
        "outputId": "2ce29272-c841-4147-f6a8-88d48d394f44"
      },
      "execution_count": 12,
      "outputs": [
        {
          "output_type": "stream",
          "name": "stdout",
          "text": [
            "group  country\n",
            "A      USA        0.304112\n",
            "       BRA        0.199892\n",
            "       MEX        0.116998\n",
            "       DEU        0.079326\n",
            "       TUR        0.076837\n",
            "       FRA        0.063851\n",
            "       GBR        0.060449\n",
            "       ESP        0.041364\n",
            "       CAN        0.031946\n",
            "       AUS        0.025225\n",
            "B      USA        0.307866\n",
            "       BRA        0.190490\n",
            "       MEX        0.120582\n",
            "       DEU        0.080470\n",
            "       TUR        0.077634\n",
            "       FRA        0.064031\n",
            "       GBR        0.061688\n",
            "       ESP        0.041221\n",
            "       CAN        0.033002\n",
            "       AUS        0.023015\n",
            "Name: country, dtype: float64\n"
          ]
        }
      ]
    },
    {
      "cell_type": "markdown",
      "source": [
        "## 5. Metrics Analysis"
      ],
      "metadata": {
        "id": "6bWtSGxNfCpm"
      }
    },
    {
      "cell_type": "markdown",
      "source": [
        "### 5.1. Conversion Rate"
      ],
      "metadata": {
        "id": "TxWm3sxF4Pqd"
      }
    },
    {
      "cell_type": "code",
      "source": [
        "print('CONVERSION RATE:')\n",
        "# number of unique users per group\n",
        "n = df['id'].nunique()\n",
        "n_A = df[df['group'] == 'A']['id'].nunique()\n",
        "n_B = df[df['group'] == 'B']['id'].nunique()\n",
        "print('Total users:', n, '\\nGroup A users:', n_A, '\\nGroup B users:', n_B)\n",
        "\n",
        "# number of users that made at least one purchase\n",
        "purchase_A = df[df['group'] == 'A']['conversion'].sum()\n",
        "purchase_B = df[df['group'] == 'B']['conversion'].sum()\n",
        "print('Group A converted users:', purchase_A)\n",
        "print('Group B converted users:', purchase_B)\n",
        "\n",
        "# conversion rate per group\n",
        "conv_A = purchase_A/n_A\n",
        "conv_B = purchase_B/n_B\n",
        "print('Group A conversion rate:', round(conv_A*100,2))\n",
        "print('Group B conversion rate:', round(conv_B*100,2))\n",
        "\n",
        "# two sample proportions z-test\n",
        "n_abtest = [n_A, n_B]\n",
        "purchase_abtest = [purchase_A, purchase_B]\n",
        "z_stat, p_value = proportions_ztest(purchase_abtest, nobs=n_abtest)\n",
        "if p_value <= 0.05:\n",
        "  print(f'p-value: {p_value:.4f}, REJECT the NULL hypothesis.')\n",
        "else:\n",
        "  print(f'p-value: {p_value:.4f}, FAIL TO REJECT the NULL hypothesis.')\n",
        "\n",
        "# confidence intervals\n",
        "(A_low, B_low), (A_upper, B_upper) = proportion_confint(purchase_abtest, nobs=n_abtest, alpha=0.05)\n",
        "print(f'Group A 95% CI: ({A_low:.4f}, {A_upper:.4f})')\n",
        "print(f'Group B 95% CI: ({B_low:.4f}, {B_upper:.4f})')\n",
        "\n",
        "# 95% CI for the difference in the conversion rate between the variants\n",
        "point_estimate = conv_B-conv_A\n",
        "ci_low, ci_upp = stats.norm.interval(0.95, \n",
        "                                     loc=point_estimate, \n",
        "                                     scale=np.sqrt(conv_A*(1-conv_A)/n_A + conv_B*(1-conv_B)/n_B))\n",
        "print('Point estimate:', round(point_estimate*100,2))\n",
        "print('Point estimate 95% CI:', (round(ci_low*100,2), round(ci_upp*100,2)))\n",
        "\n",
        "# practical significance\n",
        "threshold = 0.004\n",
        "if point_estimate >= threshold and ci_low > 0:\n",
        "    print(\"The effect is PRACTICALLY SIGNIFICANT at the {} level.\".format(threshold))\n",
        "else:\n",
        "    print(\"The effect is NOT PRACTICALLY SIGNIFICANT at the {} level.\".format(threshold))"
      ],
      "metadata": {
        "colab": {
          "base_uri": "https://localhost:8080/"
        },
        "id": "QStiymRS4QAs",
        "outputId": "2c2122f6-56e2-4278-a9e8-c0df2b6fd525"
      },
      "execution_count": 13,
      "outputs": [
        {
          "output_type": "stream",
          "name": "stdout",
          "text": [
            "CONVERSION RATE:\n",
            "Total users: 48943 \n",
            "Group A users: 24343 \n",
            "Group B users: 24600\n",
            "Group A converted users: 955\n",
            "Group B converted users: 1139\n",
            "Group A conversion rate: 3.92\n",
            "Group B conversion rate: 4.63\n",
            "p-value: 0.0001, REJECT the NULL hypothesis.\n",
            "Group A 95% CI: (0.0368, 0.0417)\n",
            "Group B 95% CI: (0.0437, 0.0489)\n",
            "Point estimate: 0.71\n",
            "Point estimate 95% CI: (0.35, 1.07)\n",
            "The effect is PRACTICALLY SIGNIFICANT at the 0.004 level.\n"
          ]
        }
      ]
    },
    {
      "cell_type": "code",
      "source": [
        "# conversions by gender\n",
        "colors = {'M': 'blue', 'F': 'red', 'O': 'green'}\n",
        "g = sns.catplot(data=df,\n",
        "            x='gender',\n",
        "            y='conversion',\n",
        "            col='group_name',\n",
        "            estimator='sum',\n",
        "            col_order=['control','test'],\n",
        "            order=['F','M','O'],\n",
        "            kind='bar',\n",
        "            height=3,\n",
        "            aspect=1.2,\n",
        "            errorbar=('ci', False),\n",
        "            palette=colors)\n",
        "g.fig.suptitle('Conversions by gender', y=1.03)\n",
        "g.set(xlabel='gender', ylabel='# conversions')"
      ],
      "metadata": {
        "colab": {
          "base_uri": "https://localhost:8080/",
          "height": 349
        },
        "id": "qehCGOijgi-s",
        "outputId": "e42a5c38-5802-4f2b-a81a-73f65ffa72fa"
      },
      "execution_count": 14,
      "outputs": [
        {
          "output_type": "execute_result",
          "data": {
            "text/plain": [
              "<seaborn.axisgrid.FacetGrid at 0x7f9d6e2ede10>"
            ]
          },
          "metadata": {},
          "execution_count": 14
        },
        {
          "output_type": "display_data",
          "data": {
            "text/plain": [
              "<Figure size 720x300 with 2 Axes>"
            ],
            "image/png": "[encoded data removed]"
          },
          "metadata": {}
        }
      ]
    },
    {
      "cell_type": "markdown",
      "source": [
        "### 5.2. Average Sales per User"
      ],
      "metadata": {
        "id": "rskwaqKMFZkK"
      }
    },
    {
      "cell_type": "code",
      "source": [
        "# since there are separate rows for the different orders made by the same customer, I had to:\n",
        "# group by id and sum the spent for each one, and fill NaN of the spent collumn with 0\n",
        "df2 = df.groupby(['group', 'id'])['spent'].sum().reset_index()\n",
        "\n",
        "# before the change \n",
        "print('Before change:')\n",
        "print(df.loc[df['id'] == 1020103])\n",
        "print(df.sample(n=5))\n",
        "\n",
        "# after the change\n",
        "print('After change:')\n",
        "print(df2.loc[df2['id'] == 1020103])\n",
        "print(df2.sample(n=5))"
      ],
      "metadata": {
        "colab": {
          "base_uri": "https://localhost:8080/"
        },
        "id": "HBP-Py50KM10",
        "outputId": "2d415d04-3b4c-4cac-ed01-c1ccc94ffef8"
      },
      "execution_count": 15,
      "outputs": [
        {
          "output_type": "stream",
          "name": "stdout",
          "text": [
            "Before change:\n",
            "            id country gender group    join_dt device         dt       spent  \\\n",
            "19733  1020103     USA      M     B 2023-01-29      A 2023-02-01  164.620000   \n",
            "19734  1020103     USA      M     B 2023-01-29      A 2023-01-30   25.680806   \n",
            "\n",
            "      group_name  conversion spent_range  \n",
            "19733       test           1     150-200  \n",
            "19734       test           0        0-50  \n",
            "            id country gender group    join_dt device  dt  spent group_name  \\\n",
            "12239  1012476     MEX      F     B 2023-01-25      A NaT    NaN       test   \n",
            "39793  1040554     ESP    NaN     A 2023-02-01      I NaT    NaN    control   \n",
            "45472  1046341     USA      F     B 2023-01-30      A NaT    NaN       test   \n",
            "36420  1037111     DEU      F     A 2023-01-26      A NaT    NaN    control   \n",
            "34195  1034838     BRA      F     B 2023-01-28      A NaT    NaN       test   \n",
            "\n",
            "       conversion spent_range  \n",
            "12239           0         NaN  \n",
            "39793           0         NaN  \n",
            "45472           0         NaN  \n",
            "36420           0         NaN  \n",
            "34195           0         NaN  \n",
            "After change:\n",
            "      group       id       spent\n",
            "34271     B  1020103  190.300806\n",
            "      group       id      spent\n",
            "8692      A  1017871   0.000000\n",
            "22869     A  1046996   0.000000\n",
            "33387     B  1018372   0.000000\n",
            "37927     B  1027573   0.000000\n",
            "28994     B  1009512  87.888115\n"
          ]
        }
      ]
    },
    {
      "cell_type": "code",
      "source": [
        "print('AVERAGE SALES PER USER:')\n",
        "# average sales per user by group\n",
        "aspu = df2.groupby('group')['spent'].mean().round(3)\n",
        "print(f'Group A: {aspu.iloc[0]:.2f}')\n",
        "print(f'Group B: {aspu.iloc[1]:.2f}')\n",
        "\n",
        "# t-test\n",
        "ttest = pingouin.ttest(x = df2[df2['group'] == 'B']['spent'],\n",
        "                       y = df2[df2['group'] == 'A']['spent'],\n",
        "                       paired = False,\n",
        "                       alternative = 'two-sided')\n",
        "p_value = ttest['p-val'].item()\n",
        "if p_value <= 0.05:\n",
        "  print(f'p-value: {p_value:.4f}, REJECT the NULL hypothesis.')\n",
        "else:\n",
        "  print(f'p-value: {p_value:.4f}, FAIL TO REJECT the NULL hypothesis.')\n",
        "\n",
        "# confidence interevals\n",
        "mean_a = df2.groupby('group')['spent'].mean().iloc[0]\n",
        "std_a = df2.groupby('group')['spent'].std().iloc[0]\n",
        "n_a = df2.groupby('group')['spent'].count().iloc[0]\n",
        "lower_A, upper_A = stats.t.interval(0.95, df=n_a-1, loc=mean_a, scale=std_a/np.sqrt(n_a))\n",
        "print(f'Group A 95% CI: ({lower_A:.4f}, {upper_A:.4f})')\n",
        "\n",
        "mean_b = df2.groupby('group')['spent'].mean().iloc[1]\n",
        "std_b = df2.groupby('group')['spent'].std().iloc[1]\n",
        "n_b = df2.groupby('group')['spent'].count().iloc[1]\n",
        "lower_B, upper_B = stats.t.interval(0.95, df=n_b-1, loc=mean_b, scale=std_b/np.sqrt(n_b))\n",
        "print(f'Group B 95% CI: ({lower_B:.4f}, {upper_B:.4f})')\n",
        "\n",
        "# 95% CI for the difference in the average sales per user between the variants\n",
        "point_estimate = mean_b-mean_a\n",
        "ci_aspu = t.interval(0.95, \n",
        "                     df=n_a+n_b-2, \n",
        "                     loc=point_estimate, \n",
        "                     scale=np.sqrt((std_a**2/n_a) + (std_b**2/n_b)))\n",
        "print('Point estimate:', point_estimate)\n",
        "print('Point estimate 95% CI:', ci_aspu)\n",
        "\n",
        "# practical significance\n",
        "threshold = 0.3\n",
        "if point_estimate >= threshold and ci_aspu[0] > 0:\n",
        "    print(\"The effect is PRACTICALLY SIGNIFICANT at the {} level.\".format(threshold))\n",
        "else:\n",
        "    print(\"The effect is NOT PRACTICALLY SIGNIFICANT at the {} level.\".format(threshold))"
      ],
      "metadata": {
        "colab": {
          "base_uri": "https://localhost:8080/"
        },
        "id": "HapWAqB4FZ0Z",
        "outputId": "3a5033f6-1364-457a-d135-63686a7f2644"
      },
      "execution_count": 16,
      "outputs": [
        {
          "output_type": "stream",
          "name": "stdout",
          "text": [
            "AVERAGE SALES PER USER:\n",
            "Group A: 3.38\n",
            "Group B: 3.39\n",
            "p-value: 0.9439, FAIL TO REJECT the NULL hypothesis.\n",
            "Group A 95% CI: (3.0487, 3.7003)\n",
            "Group B 95% CI: (3.0733, 3.7085)\n",
            "Point estimate: 0.016348477956942276\n",
            "Point estimate 95% CI: (-0.43864990915495816, 0.4713468650688427)\n",
            "The effect is NOT PRACTICALLY SIGNIFICANT at the 0.3 level.\n"
          ]
        }
      ]
    },
    {
      "cell_type": "markdown",
      "source": [
        "### 5.3. Average Order Value"
      ],
      "metadata": {
        "id": "BzElltlUK25u"
      }
    },
    {
      "cell_type": "code",
      "source": [
        "print('AVERAGE ORDER VALUE:')\n",
        "# average order value by group\n",
        "aov = df.groupby('group')['spent'].sum()/df.groupby('group')['spent'].count()\n",
        "revenue = df.groupby('group')['spent'].sum()\n",
        "print('Group A:', aov.iloc[0].round(2))\n",
        "print('Group B:', aov.iloc[1].round(2))\n",
        "print('Group A revenue:', revenue.iloc[0].round())\n",
        "print('Group B revenue:', revenue.iloc[1].round())\n",
        "\n",
        "# t-test\n",
        "ttest = pingouin.ttest(x = df[df['group'] == 'B']['spent'],\n",
        "                       y = df[df['group'] == 'A']['spent'],\n",
        "                       paired = False,\n",
        "                       alternative = 'two-sided')\n",
        "p_value = ttest['p-val'].item()\n",
        "if p_value <= 0.05:\n",
        "  print(f'p-value: {p_value:.4f}, REJECT the NULL hypothesis.')\n",
        "else:\n",
        "  print(f'p-value: {p_value:.4f}, FAIL TO REJECT the NULL hypothesis.')\n",
        "\n",
        "# confidence interevals\n",
        "mean_a = df.groupby('group')['spent'].mean().iloc[0]\n",
        "std_a = df.groupby('group')['spent'].std().iloc[0]\n",
        "n_a = df.groupby('group')['spent'].count().iloc[0]\n",
        "A_low, A_upper = stats.t.interval(0.95, df=n_a-1, loc=mean_a, scale=std_a/np.sqrt(n_a))\n",
        "print(f'Group A 95% CI: ({A_low:.4f}, {A_upper:.4f})')\n",
        "\n",
        "mean_b = df.groupby('group')['spent'].mean().iloc[1]\n",
        "std_b = df.groupby('group')['spent'].std().iloc[1]\n",
        "n_b = df.groupby('group')['spent'].count().iloc[1]\n",
        "B_low, B_upper = stats.t.interval(0.95, df=n_b-1, loc=mean_b, scale=std_b/np.sqrt(n_b))\n",
        "print(f'Group B 95% CI: ({B_low:.4f}, {B_upper:.4f})')\n",
        "\n",
        "# 95% CI for the difference in the average order value between the variants\n",
        "point_estimate = mean_b-mean_a\n",
        "ci_aov = t.interval(0.95, \n",
        "                     df=n_a+n_b-2, \n",
        "                     loc=point_estimate, \n",
        "                     scale=np.sqrt((std_a**2/n_a) + (std_b**2/n_b)))\n",
        "print('Point estimate:', point_estimate.round(2))\n",
        "print('Point estimate 95% CI:', ci_aov)\n",
        "\n",
        "# practical significance\n",
        "threshold = -4.05\n",
        "if point_estimate <= threshold and ci_aov[0] < 0:\n",
        "    print(\"The effect is PRACTICALLY SIGNIFICANT at the {} level.\".format(threshold))\n",
        "else:\n",
        "    print(\"The effect is NOT PRACTICALLY SIGNIFICANT at the {} level.\".format(threshold))"
      ],
      "metadata": {
        "colab": {
          "base_uri": "https://localhost:8080/"
        },
        "id": "IsVINq6NLALu",
        "outputId": "338030d3-3602-4023-ab8d-0b3a9bb998f1"
      },
      "execution_count": 17,
      "outputs": [
        {
          "output_type": "stream",
          "name": "stdout",
          "text": [
            "AVERAGE ORDER VALUE:\n",
            "Group A: 81.01\n",
            "Group B: 68.43\n",
            "Group A revenue: 82146.0\n",
            "Group B revenue: 83415.0\n",
            "p-value: 0.0015, REJECT the NULL hypothesis.\n",
            "Group A 95% CI: (75.0998, 86.9237)\n",
            "Group B 95% CI: (63.4034, 73.4552)\n",
            "Point estimate: -12.58\n",
            "Point estimate 95% CI: (-20.337576118251057, -4.827284643274375)\n",
            "The effect is PRACTICALLY SIGNIFICANT at the -4.05 level.\n"
          ]
        }
      ]
    },
    {
      "cell_type": "code",
      "source": [
        "# orders by spent range plot\n",
        "colors = {'0-50': 'gray', '50-100': 'gray', '100-150': 'red', '150-200': 'red', '>200': 'red'}\n",
        "g = sns.catplot(data=df,\n",
        "            x='spent_range',\n",
        "            y='spent',\n",
        "            col='group_name',\n",
        "            estimator=len,\n",
        "            col_order=['control','test'],\n",
        "            kind='bar',\n",
        "            height=3,\n",
        "            aspect=1.2,\n",
        "            palette=colors)\n",
        "g.fig.suptitle('Orders by spent range', y=1.03)\n",
        "g.set(xlabel='spent range', ylabel='# orders')"
      ],
      "metadata": {
        "colab": {
          "base_uri": "https://localhost:8080/",
          "height": 349
        },
        "id": "PkYTWpBVdkz8",
        "outputId": "5e62da49-40e3-4825-b11b-71277243265c"
      },
      "execution_count": 18,
      "outputs": [
        {
          "output_type": "execute_result",
          "data": {
            "text/plain": [
              "<seaborn.axisgrid.FacetGrid at 0x7f9d67bff0d0>"
            ]
          },
          "metadata": {},
          "execution_count": 18
        },
        {
          "output_type": "display_data",
          "data": {
            "text/plain": [
              "<Figure size 720x300 with 2 Axes>"
            ],
            "image/png": "[encoded data removed]"
          },
          "metadata": {}
        }
      ]
    },
    {
      "cell_type": "markdown",
      "source": [
        "## 6. Conclusions and Next Steps"
      ],
      "metadata": {
        "id": "acuo_ydl4qB6"
      }
    },
    {
      "cell_type": "markdown",
      "source": [
        "We use different metrics to determine the success or failure of the experiment:\n",
        "- **Conversion Rate**: the test group experienced a 0.71% increase. If we launch the banner to all users, we can expect it to increase by 0.35% to 1.07%. In addition, the conversions in the test group for purchases made by men increased by 47% compared to the control group.\n",
        "- **Average Sales per User**: the banner did not produce a significant change in this metric, and the small difference observed was due to chance.\n",
        "- **Average Order Value**: the test group shows a decrease of 12.58 dollars. If the banner is launched to all users, we can expect it to decrease by 20.34 to 4.83 dollars. The reason for this is that the test group experienced a shift towards orders with a lower spend value, mainly within the 50 dollars spend range. While orders over 100 dollars were down 8% compared to the control group.\n",
        "\n",
        "Although the increase in the Conversion Rate did not translate into an increase in revenue, running an A/B test with some modifications to the experiment design such as considering confounding variables (since high daily revenue values were observed in both groups in the first days of the experiment) and collecting additional information (such as the categories of the products that were purchased) will allow us to improve the accuracy of the conclusions drawn from the test and also gain a better understanding of our customers behavior."
      ],
      "metadata": {
        "id": "sbF-a17u5LKV"
      }
    }
  ]
}